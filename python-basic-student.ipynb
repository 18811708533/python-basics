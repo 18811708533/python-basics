{
 "cells": [
  {
   "cell_type": "markdown",
   "metadata": {},
   "source": [
    "# Python基础\n",
    "\n",
    "### 目录\n",
    "- python简介\n",
    "- 安装和运行\n",
    "- 基本数据类型\n",
    "- 变量和表达式\n",
    "- 字符串\n",
    "- list\n",
    "- 判断语句\n",
    "- 循环语句\n",
    "- set, tuple, dictionary"
   ]
  },
  {
   "cell_type": "markdown",
   "metadata": {},
   "source": [
    "# Python简介\n",
    "- 官网: https://www.python.org/\n",
    "- 版本: **3.6**/2.7\n",
    "- 脚本语言，语法、调试都很方便，非常适合编程菜鸟入门\n",
    "\n",
    "## Python安装\n",
    "\n",
    "### Anaconda安装\n",
    "- Anaconda是一个常用的用于数据分析的Python版本管理系统\n",
    "- 从[官网](https://www.continuum.io/downloads)下载相应版本\n",
    "- 按照提示安装\n",
    "\n",
    "### Anaconda environment安装\n",
    "- 安装一个新的environment: conda create -n [your_environment_name] python=[your_python_version]\n",
    "- 进入已经安装的environment: source activate [your_environment_name]\n",
    "- 在windows下使用: activate [your_environment_name]\n",
    "- 退出当前environment: source deactivate\n",
    "- 查看environment: conda info --envs\n",
    "- 更多的conda命令请查询官网文档: https://conda.io/docs/index.html\n",
    "\n",
    "### 在environment下安装libraries\n",
    "- pip install [package_name]\n",
    "\n",
    "## 运行Python\n",
    "1. 在命令行上输入python\n",
    "2. 用文本编辑器写完一段程序然后运行\n",
    "\n",
    "## 如何寻找帮助\n",
    "- 官方文档\n",
    "- debug: 学会读报错信息\n",
    "- Goole和Stackoverflow"
   ]
  },
  {
   "cell_type": "markdown",
   "metadata": {},
   "source": [
    "## python程序基础\n",
    "### 用python做计算器\n",
    "- +, -, *\n",
    "- /, //\n",
    "- \\*\\*"
   ]
  },
  {
   "cell_type": "markdown",
   "metadata": {},
   "source": [
    "- =, =="
   ]
  },
  {
   "cell_type": "markdown",
   "metadata": {},
   "source": [
    "# Python基本数据类型、变量、运算和表达式\n",
    "\n",
    "## 变量\n",
    "- 变量赋值(assignment)\n",
    "\n",
    "## 基本数据类型\n",
    "- 整型int\n",
    "- 浮点float\n",
    "- 数据类型强制转换\n",
    "- 四则运算\n",
    "- 字符串str\n",
    "- bool\n",
    "\n",
    "## 动态类型\n",
    "- python是一种动态类型的语言\n",
    "- type(来查看变量类型)"
   ]
  },
  {
   "cell_type": "markdown",
   "metadata": {},
   "source": [
    "## 表达式(expression)\n",
    "- 引用变量\n",
    "- x += x, x *= y, x /= y\n",
    "- python会用表达式计算（返回）出一个结果\n",
    "\n",
    "## 指令(statement)\n",
    "- python会执行一条指令，未必会返回一个结果\n",
    "- expression可以被当做一个statement，但是statement一般不是一个expression\n",
    "- 赋值statement\n",
    "\n"
   ]
  },
  {
   "cell_type": "markdown",
   "metadata": {},
   "source": [
    "## 字符串(string)\n",
    "\n",
    "quote ' 和double quote \" 都可以用作字符串"
   ]
  },
  {
   "cell_type": "markdown",
   "metadata": {},
   "source": [
    "两者之间在表示一个字符串上没有区别，但是一个字符串的开头和结尾必须使用同一种引号。\n",
    "backslash \\ 可以用来escape引号。"
   ]
  },
  {
   "cell_type": "markdown",
   "metadata": {},
   "source": [
    "当然也可以使用两种不同的引号来区分究竟是字符串结尾还是字符串中出现了引号。"
   ]
  },
  {
   "cell_type": "markdown",
   "metadata": {},
   "source": [
    "如果一个string有好多行"
   ]
  },
  {
   "cell_type": "markdown",
   "metadata": {},
   "source": [
    "\\n 是换行符，可以用在strign中换行"
   ]
  },
  {
   "cell_type": "markdown",
   "metadata": {},
   "source": [
    "\\t是tab键"
   ]
  },
  {
   "cell_type": "markdown",
   "metadata": {},
   "source": [
    "+可以把两个string连到一起(concatenation)"
   ]
  },
  {
   "cell_type": "markdown",
   "metadata": {},
   "source": [
    "## string indexing and slicing\n",
    "- indexing"
   ]
  },
  {
   "cell_type": "markdown",
   "metadata": {},
   "source": [
    "- slicing"
   ]
  },
  {
   "cell_type": "markdown",
   "metadata": {},
   "source": [
    "## 字符串函数\n",
    "\n",
    "- upper and lower"
   ]
  },
  {
   "cell_type": "markdown",
   "metadata": {},
   "source": [
    "- startswith and endswith"
   ]
  },
  {
   "cell_type": "markdown",
   "metadata": {},
   "source": [
    "- strip"
   ]
  },
  {
   "cell_type": "markdown",
   "metadata": {},
   "source": [
    "- split\n",
    "把一个string拆成一个list of strings"
   ]
  },
  {
   "cell_type": "markdown",
   "metadata": {},
   "source": [
    "- find: 找到第一个substring出现的位置"
   ]
  },
  {
   "cell_type": "markdown",
   "metadata": {},
   "source": [
    "如果输入一个不存在的substring那就会返回-1了"
   ]
  },
  {
   "cell_type": "markdown",
   "metadata": {},
   "source": [
    "- replace"
   ]
  },
  {
   "cell_type": "markdown",
   "metadata": {},
   "source": [
    "# List\n",
    "\n",
    "list 是一种python的数据类型，表示一连串的数据的集合。\n",
    "\n",
    "- 如何创建一个list"
   ]
  },
  {
   "cell_type": "markdown",
   "metadata": {},
   "source": [
    "- list indexing"
   ]
  },
  {
   "cell_type": "markdown",
   "metadata": {},
   "source": [
    "- list slicing"
   ]
  },
  {
   "cell_type": "markdown",
   "metadata": {},
   "source": [
    "- 我们可以直接把string变成一个list"
   ]
  },
  {
   "cell_type": "markdown",
   "metadata": {},
   "source": [
    "- 求list的长度"
   ]
  },
  {
   "cell_type": "markdown",
   "metadata": {},
   "source": [
    "- append方法可以在list的末尾添加element"
   ]
  },
  {
   "cell_type": "markdown",
   "metadata": {},
   "source": [
    "- 两个list相加合并成新的list"
   ]
  },
  {
   "cell_type": "markdown",
   "metadata": {},
   "source": [
    "- 判断一个element是否在一个list里面"
   ]
  },
  {
   "cell_type": "markdown",
   "metadata": {},
   "source": [
    "- insert"
   ]
  },
  {
   "cell_type": "markdown",
   "metadata": {},
   "source": [
    "- pop"
   ]
  },
  {
   "cell_type": "markdown",
   "metadata": {},
   "source": [
    "- count\n"
   ]
  },
  {
   "cell_type": "markdown",
   "metadata": {},
   "source": [
    "- reverse"
   ]
  },
  {
   "cell_type": "markdown",
   "metadata": {},
   "source": [
    "- del删除element"
   ]
  },
  {
   "cell_type": "markdown",
   "metadata": {},
   "source": [
    "## control statement"
   ]
  },
  {
   "cell_type": "markdown",
   "metadata": {},
   "source": [
    "### 关于Boolean"
   ]
  },
  {
   "cell_type": "markdown",
   "metadata": {},
   "source": [
    "## loops\n",
    "### for loop"
   ]
  },
  {
   "cell_type": "markdown",
   "metadata": {},
   "source": [
    "range function"
   ]
  },
  {
   "cell_type": "code",
   "execution_count": 100,
   "metadata": {},
   "outputs": [
    {
     "name": "stdout",
     "output_type": "stream",
     "text": [
      "0\n",
      "1\n",
      "2\n",
      "3\n",
      "4\n"
     ]
    }
   ],
   "source": [
    "for i in range(5):\n",
    "    print(i)"
   ]
  },
  {
   "cell_type": "markdown",
   "metadata": {},
   "source": [
    "关于range的用法"
   ]
  },
  {
   "cell_type": "code",
   "execution_count": 101,
   "metadata": {},
   "outputs": [
    {
     "data": {
      "text/plain": [
       "[1, 2, 3, 4, 5, 6, 7, 8, 9]"
      ]
     },
     "execution_count": 101,
     "metadata": {},
     "output_type": "execute_result"
    }
   ],
   "source": [
    "list(range(1,10))"
   ]
  },
  {
   "cell_type": "code",
   "execution_count": 102,
   "metadata": {},
   "outputs": [
    {
     "data": {
      "text/plain": [
       "[5, 6, 7, 8, 9]"
      ]
     },
     "execution_count": 102,
     "metadata": {},
     "output_type": "execute_result"
    }
   ],
   "source": [
    "list(range(5,10))"
   ]
  },
  {
   "cell_type": "code",
   "execution_count": 103,
   "metadata": {},
   "outputs": [
    {
     "data": {
      "text/plain": [
       "[5, 10, 15]"
      ]
     },
     "execution_count": 103,
     "metadata": {},
     "output_type": "execute_result"
    }
   ],
   "source": [
    "list(range(5,20,5))"
   ]
  },
  {
   "cell_type": "code",
   "execution_count": 104,
   "metadata": {},
   "outputs": [
    {
     "data": {
      "text/plain": [
       "[5, 8, 11, 14, 17]"
      ]
     },
     "execution_count": 104,
     "metadata": {},
     "output_type": "execute_result"
    }
   ],
   "source": [
    "list(range(5,20,3))"
   ]
  },
  {
   "cell_type": "code",
   "execution_count": 105,
   "metadata": {},
   "outputs": [
    {
     "data": {
      "text/plain": [
       "[]"
      ]
     },
     "execution_count": 105,
     "metadata": {},
     "output_type": "execute_result"
    }
   ],
   "source": [
    "list(range(5,20,-1))"
   ]
  },
  {
   "cell_type": "code",
   "execution_count": 106,
   "metadata": {},
   "outputs": [
    {
     "data": {
      "text/plain": [
       "[20, 19, 18, 17, 16, 15, 14, 13, 12, 11, 10, 9, 8, 7, 6]"
      ]
     },
     "execution_count": 106,
     "metadata": {},
     "output_type": "execute_result"
    }
   ],
   "source": [
    "list(range(20,5,-1))"
   ]
  },
  {
   "cell_type": "code",
   "execution_count": 107,
   "metadata": {},
   "outputs": [
    {
     "data": {
      "text/plain": [
       "[20, 16, 12, 8]"
      ]
     },
     "execution_count": 107,
     "metadata": {},
     "output_type": "execute_result"
    }
   ],
   "source": [
    "list(range(20,5,-4))"
   ]
  },
  {
   "cell_type": "code",
   "execution_count": 108,
   "metadata": {},
   "outputs": [
    {
     "data": {
      "text/plain": [
       "[20, 16, 12, 8]"
      ]
     },
     "execution_count": 108,
     "metadata": {},
     "output_type": "execute_result"
    }
   ],
   "source": [
    "list(range(20,5,-4))"
   ]
  },
  {
   "cell_type": "markdown",
   "metadata": {},
   "source": [
    "如果我们想在每个element前面加个数字编号呢？"
   ]
  },
  {
   "cell_type": "code",
   "execution_count": 109,
   "metadata": {},
   "outputs": [
    {
     "name": "stdout",
     "output_type": "stream",
     "text": [
      "0 Tensorflow\n",
      "1 July\n",
      "2 Keras\n",
      "3 Torch\n",
      "4 Caffe\n"
     ]
    }
   ],
   "source": [
    "for i in range(len(names)):\n",
    "    print(i, names[i])"
   ]
  },
  {
   "cell_type": "markdown",
   "metadata": {},
   "source": [
    "其实用enumerate更简单，直接帮你带上数字"
   ]
  },
  {
   "cell_type": "code",
   "execution_count": 110,
   "metadata": {},
   "outputs": [
    {
     "name": "stdout",
     "output_type": "stream",
     "text": [
      "0 Tensorflow\n",
      "1 July\n",
      "2 Keras\n",
      "3 Torch\n",
      "4 Caffe\n"
     ]
    }
   ],
   "source": [
    "for i, name in enumerate(names):\n",
    "    print(i, name)"
   ]
  },
  {
   "cell_type": "markdown",
   "metadata": {},
   "source": [
    "for与list在一起使用可以写很多简洁的语句, list comprehension"
   ]
  },
  {
   "cell_type": "code",
   "execution_count": 111,
   "metadata": {},
   "outputs": [
    {
     "data": {
      "text/plain": [
       "['stupid Tensorflow',\n",
       " 'stupid July',\n",
       " 'stupid Keras',\n",
       " 'stupid Torch',\n",
       " 'stupid Caffe']"
      ]
     },
     "execution_count": 111,
     "metadata": {},
     "output_type": "execute_result"
    }
   ],
   "source": [
    "[\"stupid \" + name for name in names]\n",
    "['stupid Tensorflow', 'stupid July', 'stupid Keras', 'stupid Torch', 'stupid Caffe']"
   ]
  },
  {
   "cell_type": "markdown",
   "metadata": {},
   "source": [
    "## while loop\n",
    "\n",
    "下面的这个小程序可以输出0-9"
   ]
  },
  {
   "cell_type": "code",
   "execution_count": 112,
   "metadata": {},
   "outputs": [
    {
     "name": "stdout",
     "output_type": "stream",
     "text": [
      "0\n",
      "1\n",
      "2\n",
      "3\n",
      "4\n",
      "5\n",
      "6\n",
      "7\n",
      "8\n",
      "9\n"
     ]
    }
   ],
   "source": [
    "i = 0\n",
    "while i < 10:\n",
    "\tprint(i)\n",
    "\ti += 1"
   ]
  },
  {
   "cell_type": "markdown",
   "metadata": {},
   "source": [
    "注意千万别忘了最后这一句```i += 1```否则就陷入死循环了。\n",
    "\n",
    "### break和continue的用法\n",
    "- break会直接让你跳出当前的循环"
   ]
  },
  {
   "cell_type": "code",
   "execution_count": 113,
   "metadata": {},
   "outputs": [
    {
     "name": "stdout",
     "output_type": "stream",
     "text": [
      "0\n",
      "1\n",
      "2\n",
      "3\n",
      "4\n",
      "5\n",
      "6\n",
      "7\n",
      "8\n",
      "9\n"
     ]
    }
   ],
   "source": [
    "i = 0\n",
    "while 1:\n",
    "\tprint(i)\n",
    "\ti += 1\n",
    "\tif i >= 10:\n",
    "\t\tbreak"
   ]
  },
  {
   "cell_type": "markdown",
   "metadata": {},
   "source": [
    "\n",
    "- continue则会让你结束当前循环的环节直接跳到下一循环"
   ]
  },
  {
   "cell_type": "code",
   "execution_count": 114,
   "metadata": {},
   "outputs": [
    {
     "name": "stdout",
     "output_type": "stream",
     "text": [
      "1\n",
      "2\n",
      "3\n",
      "4\n",
      "6\n",
      "7\n",
      "8\n",
      "9\n",
      "11\n",
      "12\n",
      "13\n",
      "14\n",
      "16\n",
      "17\n",
      "18\n",
      "19\n"
     ]
    }
   ],
   "source": [
    "i = 0\n",
    "while 1:\n",
    "\tif i % 5 == 0:\n",
    "\t\ti += 1\n",
    "\t\tcontinue\n",
    "\tprint(i)\n",
    "\ti += 1\n",
    "\t\n",
    "\tif i >= 20:\n",
    "\t\tbreak"
   ]
  },
  {
   "cell_type": "markdown",
   "metadata": {},
   "source": [
    "## 小练习：输出一个fibonacci数列"
   ]
  },
  {
   "cell_type": "code",
   "execution_count": null,
   "metadata": {
    "collapsed": true
   },
   "outputs": [],
   "source": []
  },
  {
   "cell_type": "code",
   "execution_count": 116,
   "metadata": {},
   "outputs": [
    {
     "name": "stdout",
     "output_type": "stream",
     "text": [
      "while loop:\n",
      "[0, 1, 1, 2, 3, 5, 8, 13, 21, 34, 55, 89, 144, 233, 377]\n"
     ]
    }
   ],
   "source": [
    "print(\"while loop:\")\n",
    "fibs = []\n",
    "i = 0\n",
    "j = 1\n",
    "while i < 500:\n",
    "\tfibs.append(i)\n",
    "\ttmp = j\n",
    "\tj = i + j\n",
    "\ti = tmp\n",
    "print(fibs)"
   ]
  },
  {
   "cell_type": "code",
   "execution_count": null,
   "metadata": {
    "collapsed": true
   },
   "outputs": [],
   "source": []
  },
  {
   "cell_type": "code",
   "execution_count": null,
   "metadata": {
    "collapsed": true
   },
   "outputs": [],
   "source": []
  },
  {
   "cell_type": "markdown",
   "metadata": {},
   "source": [
    "## set"
   ]
  },
  {
   "cell_type": "code",
   "execution_count": 117,
   "metadata": {},
   "outputs": [
    {
     "data": {
      "text/plain": [
       "{'julyedu', 'jupyter', 'numpy', 'python', 'pytorch', 'tensorflow'}"
      ]
     },
     "execution_count": 117,
     "metadata": {},
     "output_type": "execute_result"
    }
   ],
   "source": [
    "names = {\"tensorflow\", \"pytorch\", \"julyedu\", \"jupyter\", \"python\", \"numpy\"}\n",
    "names"
   ]
  },
  {
   "cell_type": "code",
   "execution_count": 118,
   "metadata": {},
   "outputs": [
    {
     "data": {
      "text/plain": [
       "set"
      ]
     },
     "execution_count": 118,
     "metadata": {},
     "output_type": "execute_result"
    }
   ],
   "source": [
    "type(names)"
   ]
  },
  {
   "cell_type": "code",
   "execution_count": 119,
   "metadata": {},
   "outputs": [
    {
     "data": {
      "text/plain": [
       "set()"
      ]
     },
     "execution_count": 119,
     "metadata": {},
     "output_type": "execute_result"
    }
   ],
   "source": [
    "empty_set = set()\n",
    "empty_set"
   ]
  },
  {
   "cell_type": "markdown",
   "metadata": {},
   "source": [
    "- list可以被转换成set，可以用于去重"
   ]
  },
  {
   "cell_type": "code",
   "execution_count": null,
   "metadata": {
    "collapsed": true
   },
   "outputs": [],
   "source": []
  },
  {
   "cell_type": "code",
   "execution_count": 120,
   "metadata": {},
   "outputs": [
    {
     "data": {
      "text/plain": [
       "[1, 4, 5, 2, 1, 5, 4, 2]"
      ]
     },
     "execution_count": 120,
     "metadata": {},
     "output_type": "execute_result"
    }
   ],
   "source": [
    "numbers = [1,4,5,2,1,5,4,2]\n",
    "numbers"
   ]
  },
  {
   "cell_type": "code",
   "execution_count": 121,
   "metadata": {},
   "outputs": [
    {
     "data": {
      "text/plain": [
       "{1, 2, 4, 5}"
      ]
     },
     "execution_count": 121,
     "metadata": {},
     "output_type": "execute_result"
    }
   ],
   "source": [
    "set(numbers)"
   ]
  },
  {
   "cell_type": "code",
   "execution_count": 122,
   "metadata": {},
   "outputs": [
    {
     "data": {
      "text/plain": [
       "[1, 2, 4, 5]"
      ]
     },
     "execution_count": 122,
     "metadata": {},
     "output_type": "execute_result"
    }
   ],
   "source": [
    "list(set(numbers))"
   ]
  },
  {
   "cell_type": "markdown",
   "metadata": {},
   "source": [
    "- string也可以被转换成set"
   ]
  },
  {
   "cell_type": "code",
   "execution_count": 123,
   "metadata": {},
   "outputs": [
    {
     "data": {
      "text/plain": [
       "{'a', 'b', 'n'}"
      ]
     },
     "execution_count": 123,
     "metadata": {},
     "output_type": "execute_result"
    }
   ],
   "source": [
    "set(\"banana\")"
   ]
  },
  {
   "cell_type": "markdown",
   "metadata": {},
   "source": [
    "- 比较fancy的一个例子, set comprehension\n"
   ]
  },
  {
   "cell_type": "code",
   "execution_count": 124,
   "metadata": {},
   "outputs": [
    {
     "data": {
      "text/plain": [
       "{'b'}"
      ]
     },
     "execution_count": 124,
     "metadata": {},
     "output_type": "execute_result"
    }
   ],
   "source": [
    "{x for x in \"banana\" if x not in \"an\"}"
   ]
  },
  {
   "cell_type": "markdown",
   "metadata": {},
   "source": [
    "## tuple\n",
    "tuples有点像list，不过一个很大的区别是tuples是immutable的，也就是说它的element一旦创建之后就无法更改了。"
   ]
  },
  {
   "cell_type": "code",
   "execution_count": 125,
   "metadata": {},
   "outputs": [
    {
     "data": {
      "text/plain": [
       "(1, 'facebook', 'palo alto')"
      ]
     },
     "execution_count": 125,
     "metadata": {},
     "output_type": "execute_result"
    }
   ],
   "source": [
    "t = 1, \"facebook\", \"palo alto\"\n",
    "t"
   ]
  },
  {
   "cell_type": "code",
   "execution_count": 126,
   "metadata": {},
   "outputs": [
    {
     "data": {
      "text/plain": [
       "'palo alto'"
      ]
     },
     "execution_count": 126,
     "metadata": {},
     "output_type": "execute_result"
    }
   ],
   "source": [
    "x, y, z = t\n",
    "x\n",
    "y\n",
    "z"
   ]
  },
  {
   "cell_type": "markdown",
   "metadata": {},
   "source": [
    "## dictionary\n",
    "\n",
    "dictionary就是字典，也就是把一个元素map到另一个元素上"
   ]
  },
  {
   "cell_type": "code",
   "execution_count": 127,
   "metadata": {
    "collapsed": true
   },
   "outputs": [],
   "source": [
    "fruit = {'apple': 0, 'banana': 2, 'orange': 3, 'pineapple': 4}"
   ]
  },
  {
   "cell_type": "code",
   "execution_count": 128,
   "metadata": {},
   "outputs": [
    {
     "data": {
      "text/plain": [
       "0"
      ]
     },
     "execution_count": 128,
     "metadata": {},
     "output_type": "execute_result"
    }
   ],
   "source": [
    "fruit[\"apple\"]"
   ]
  },
  {
   "cell_type": "code",
   "execution_count": 129,
   "metadata": {},
   "outputs": [
    {
     "data": {
      "text/plain": [
       "2"
      ]
     },
     "execution_count": 129,
     "metadata": {},
     "output_type": "execute_result"
    }
   ],
   "source": [
    "fruit[\"banana\"]"
   ]
  },
  {
   "cell_type": "markdown",
   "metadata": {},
   "source": [
    "下面的方法可以帮助我们查看一个dictionary的keys和values"
   ]
  },
  {
   "cell_type": "code",
   "execution_count": 130,
   "metadata": {},
   "outputs": [
    {
     "data": {
      "text/plain": [
       "dict_keys(['apple', 'banana', 'orange', 'pineapple'])"
      ]
     },
     "execution_count": 130,
     "metadata": {},
     "output_type": "execute_result"
    }
   ],
   "source": [
    "fruit.keys()"
   ]
  },
  {
   "cell_type": "code",
   "execution_count": 131,
   "metadata": {},
   "outputs": [
    {
     "data": {
      "text/plain": [
       "dict_values([0, 2, 3, 4])"
      ]
     },
     "execution_count": 131,
     "metadata": {},
     "output_type": "execute_result"
    }
   ],
   "source": [
    "fruit.values()"
   ]
  },
  {
   "cell_type": "markdown",
   "metadata": {},
   "source": [
    "- 一个list of tuples也可以转换成dict。"
   ]
  },
  {
   "cell_type": "code",
   "execution_count": 132,
   "metadata": {},
   "outputs": [
    {
     "data": {
      "text/plain": [
       "{'Chicago': 6,\n",
       " 'Harvard': 1,\n",
       " 'MIT': 5,\n",
       " 'Princeton': 2,\n",
       " 'Stanford': 4,\n",
       " 'Yale': 3}"
      ]
     },
     "execution_count": 132,
     "metadata": {},
     "output_type": "execute_result"
    }
   ],
   "source": [
    "schools = dict([(\"Harvard\",1), (\"Princeton\",2), (\"Yale\",3), (\"Stanford\",4), (\"MIT\",5), (\"Chicago\",6)])\n",
    "schools"
   ]
  },
  {
   "cell_type": "markdown",
   "metadata": {},
   "source": [
    "有时候我们想把一个list编号做成一个dictionary，比如下面这种情况:"
   ]
  },
  {
   "cell_type": "code",
   "execution_count": 133,
   "metadata": {
    "collapsed": true
   },
   "outputs": [],
   "source": [
    "vocab = [\"apple\", \"bit\", \"chrome\", \"face\", \"google\", \"hack\", \"intern\", \"jack\", \"kaggle\"]"
   ]
  },
  {
   "cell_type": "code",
   "execution_count": 134,
   "metadata": {},
   "outputs": [
    {
     "data": {
      "text/plain": [
       "['apple',\n",
       " 'bit',\n",
       " 'chrome',\n",
       " 'face',\n",
       " 'google',\n",
       " 'hack',\n",
       " 'intern',\n",
       " 'jack',\n",
       " 'kaggle']"
      ]
     },
     "execution_count": 134,
     "metadata": {},
     "output_type": "execute_result"
    }
   ],
   "source": [
    "vocab"
   ]
  },
  {
   "cell_type": "code",
   "execution_count": 135,
   "metadata": {
    "collapsed": true
   },
   "outputs": [],
   "source": [
    "vocab2idx = {v:k for k, v in enumerate(vocab)}"
   ]
  },
  {
   "cell_type": "code",
   "execution_count": 136,
   "metadata": {},
   "outputs": [
    {
     "data": {
      "text/plain": [
       "{'apple': 0,\n",
       " 'bit': 1,\n",
       " 'chrome': 2,\n",
       " 'face': 3,\n",
       " 'google': 4,\n",
       " 'hack': 5,\n",
       " 'intern': 6,\n",
       " 'jack': 7,\n",
       " 'kaggle': 8}"
      ]
     },
     "execution_count": 136,
     "metadata": {},
     "output_type": "execute_result"
    }
   ],
   "source": [
    "vocab2idx"
   ]
  },
  {
   "cell_type": "markdown",
   "metadata": {},
   "source": [
    "## function\n",
    "\n",
    "- def关键词\n",
    "- 用括号包含list of parameters\n",
    "- statements都要indent\n"
   ]
  },
  {
   "cell_type": "markdown",
   "metadata": {},
   "source": [
    "\n",
    "### 不定长度的arguments\n",
    "\n"
   ]
  },
  {
   "cell_type": "markdown",
   "metadata": {},
   "source": [
    "### default argument\n",
    "concat例子\n",
    "\n"
   ]
  },
  {
   "cell_type": "markdown",
   "metadata": {},
   "source": [
    "\n",
    "\n",
    "### 把一个tuple/list当做arguments\n",
    "\n"
   ]
  }
 ],
 "metadata": {
  "kernelspec": {
   "display_name": "Python 3",
   "language": "python",
   "name": "python3"
  },
  "language_info": {
   "codemirror_mode": {
    "name": "ipython",
    "version": 3
   },
   "file_extension": ".py",
   "mimetype": "text/x-python",
   "name": "python",
   "nbconvert_exporter": "python",
   "pygments_lexer": "ipython3",
   "version": "3.6.1"
  }
 },
 "nbformat": 4,
 "nbformat_minor": 2
}
